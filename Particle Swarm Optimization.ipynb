{
 "cells": [
  {
   "cell_type": "code",
   "execution_count": 2,
   "metadata": {},
   "outputs": [
    {
     "name": "stdout",
     "output_type": "stream",
     "text": [
      "Best position: [4.18022046e-12 1.47651895e-12]\n",
      "Best fitness: 1.965435132760957e-23\n"
     ]
    }
   ],
   "source": [
    "import numpy as np\n",
    "\n",
    "class Particle:\n",
    "    def __init__(self, dim):\n",
    "        self.position = np.random.uniform(low=-5, high=5, size=dim)\n",
    "        self.velocity = np.random.uniform(low=-1, high=1, size=dim)\n",
    "        self.best_position = self.position\n",
    "        self.best_fitness = float('inf')\n",
    "\n",
    "def objective_function(x):\n",
    "    # Define your objective function here, for demonstration let's use sphere function\n",
    "    return np.sum(np.square(x))\n",
    "\n",
    "def update_velocity(particle, global_best_position, w, c1, c2):\n",
    "    r1, r2 = np.random.rand(len(particle.position)), np.random.rand(len(particle.position))\n",
    "    inertia_term = w * particle.velocity\n",
    "    cognitive_term = c1 * r1 * (particle.best_position - particle.position)\n",
    "    social_term = c2 * r2 * (global_best_position - particle.position)\n",
    "    new_velocity = inertia_term + cognitive_term + social_term\n",
    "    return new_velocity\n",
    "\n",
    "def update_position(particle, bounds):\n",
    "    new_position = particle.position + particle.velocity\n",
    "    # Apply bounds\n",
    "    new_position = np.clip(new_position, bounds[0], bounds[1])\n",
    "    return new_position\n",
    "\n",
    "def pso(objective_function, num_particles, max_iter, bounds, w=0.5, c1=1, c2=2):\n",
    "    dim = len(bounds[0])\n",
    "    global_best_position = np.random.uniform(low=bounds[0], high=bounds[1], size=dim)\n",
    "    global_best_fitness = float('inf')\n",
    "    particles = [Particle(dim) for _ in range(num_particles)]\n",
    "\n",
    "    for _ in range(max_iter):\n",
    "        for particle in particles:\n",
    "            fitness = objective_function(particle.position)\n",
    "            if fitness < particle.best_fitness:\n",
    "                particle.best_fitness = fitness\n",
    "                particle.best_position = particle.position\n",
    "            if fitness < global_best_fitness:\n",
    "                global_best_fitness = fitness\n",
    "                global_best_position = particle.position\n",
    "\n",
    "        for particle in particles:\n",
    "            particle.velocity = update_velocity(particle, global_best_position, w, c1, c2)\n",
    "            particle.position = update_position(particle, bounds)\n",
    "\n",
    "    return global_best_position, global_best_fitness\n",
    "\n",
    "# Example usage\n",
    "bounds = [np.array([-5, -5]), np.array([5, 5])]\n",
    "best_position, best_fitness = pso(objective_function, num_particles=30, max_iter=100, bounds=bounds)\n",
    "print(\"Best position:\", best_position)\n",
    "print(\"Best fitness:\", best_fitness)\n"
   ]
  }
 ],
 "metadata": {
  "kernelspec": {
   "display_name": "Python 3",
   "language": "python",
   "name": "python3"
  },
  "language_info": {
   "codemirror_mode": {
    "name": "ipython",
    "version": 3
   },
   "file_extension": ".py",
   "mimetype": "text/x-python",
   "name": "python",
   "nbconvert_exporter": "python",
   "pygments_lexer": "ipython3",
   "version": "3.10.6"
  }
 },
 "nbformat": 4,
 "nbformat_minor": 2
}
